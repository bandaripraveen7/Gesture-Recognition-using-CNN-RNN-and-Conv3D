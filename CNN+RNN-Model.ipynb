{
 "cells": [
  {
   "cell_type": "markdown",
   "metadata": {
    "colab_type": "text",
    "id": "2IREchFHZNKP"
   },
   "source": [
    "# Gesture Recognition\n",
    "In this group project, you are going to build a CNN+RNN model that will be able to predict the 5 gestures correctly. Please import the following libraries to get started."
   ]
  },
  {
   "cell_type": "code",
   "execution_count": 1,
   "metadata": {
    "colab": {},
    "colab_type": "code",
    "id": "wcNvYDA-ZNKQ"
   },
   "outputs": [],
   "source": [
    "import numpy as np\n",
    "import os\n",
    "#from scipy.misc import imread, imresize depreciated\n",
    "import datetime\n",
    "import os"
   ]
  },
  {
   "cell_type": "code",
   "execution_count": 2,
   "metadata": {
    "colab": {
     "base_uri": "https://localhost:8080/",
     "height": 35
    },
    "colab_type": "code",
    "id": "n7hFz7SMZNKV",
    "outputId": "d132d18d-bfa0-4002-efeb-4ca3a219995e"
   },
   "outputs": [
    {
     "name": "stderr",
     "output_type": "stream",
     "text": [
      "Using TensorFlow backend.\n"
     ]
    }
   ],
   "source": [
    "from skimage.transform import resize\n",
    "import matplotlib.pyplot as plt\n",
    "import keras"
   ]
  },
  {
   "cell_type": "markdown",
   "metadata": {
    "colab_type": "text",
    "id": "NiGh0Xt8ZNKf"
   },
   "source": [
    "We set the random seed so that the results don't vary drastically."
   ]
  },
  {
   "cell_type": "code",
   "execution_count": 3,
   "metadata": {
    "colab": {},
    "colab_type": "code",
    "id": "tEPTKShxZNKg"
   },
   "outputs": [],
   "source": [
    "np.random.seed(30)\n",
    "import random as rn\n",
    "rn.seed(30)\n",
    "from keras import backend as K\n",
    "import tensorflow as tf\n",
    "tf.set_random_seed(30)"
   ]
  },
  {
   "cell_type": "markdown",
   "metadata": {
    "colab_type": "text",
    "id": "mgHQcYUEZNKq"
   },
   "source": [
    "In this block, you read the folder names for training and validation. You also set the `batch_size` here. Note that you set the batch size in such a way that you are able to use the GPU in full capacity. You keep increasing the batch size until the machine throws an error."
   ]
  },
  {
   "cell_type": "code",
   "execution_count": 4,
   "metadata": {
    "colab": {},
    "colab_type": "code",
    "id": "dgeauC_tZNKr"
   },
   "outputs": [],
   "source": [
    "train_doc = np.random.permutation(open('train.csv').readlines())\n",
    "val_doc = np.random.permutation(open('val.csv').readlines())\n",
    "batch_size = 20 #experiment with the batch size"
   ]
  },
  {
   "cell_type": "code",
   "execution_count": 5,
   "metadata": {
    "colab": {},
    "colab_type": "code",
    "id": "z2engFgpZNKw"
   },
   "outputs": [],
   "source": [
    "resize_height=100\n",
    "resize_width=100\n",
    "num_image_per_video=18"
   ]
  },
  {
   "cell_type": "markdown",
   "metadata": {
    "colab_type": "text",
    "id": "Nucla5jjZNK0"
   },
   "source": [
    "## Generator\n",
    "This is one of the most important part of the code. The overall structure of the generator has been given. In the generator, you are going to preprocess the images as you have images of 2 different dimensions as well as create a batch of video frames. You have to experiment with `img_idx`, `y`,`z` and normalization such that you get high accuracy."
   ]
  },
  {
   "cell_type": "code",
   "execution_count": 6,
   "metadata": {
    "colab": {},
    "colab_type": "code",
    "id": "rN8QaU6rZNK3"
   },
   "outputs": [],
   "source": [
    "def generator(source_path, folder_list, batch_size):\n",
    "    print( 'Source path = ', source_path, '; batch size =', batch_size)\n",
    "    img_idx =[2,4,6,8,9,10,12,14,15,16,18,20,22,23,24,25,26,28] #create a list of image numbers you want to use for a particular video\n",
    "    while True:\n",
    "        t = np.random.permutation(folder_list)#files\n",
    "        num_batches = int(len(t)/batch_size)# 663/66=10\n",
    "        for batch in range(num_batches): # we iterate over the number of batches#10\n",
    "            x=num_image_per_video\n",
    "            y=resize_height\n",
    "            z=resize_width\n",
    "            batch_data = np.zeros((batch_size,x,y,z,3)) # x is the number of images you use for each video, (y,z) is the final size of the input images and 3 is the number of channels RGB\n",
    "            batch_labels = np.zeros((batch_size,5)) # batch_labels is the one hot representation of the output\n",
    "            for folder in range(batch_size): # iterate over the batch_size#66 #t[0+(0*66)]#t[1+0]\n",
    "                imgs = os.listdir(source_path+'/'+ t[folder + (batch*batch_size)].split(';')[0]) # read all the images in the folder\n",
    "                for idx,item in enumerate(img_idx): #  Iterate iver the frames/images of a folder to read them in\n",
    "                    image = plt.imread(source_path+'/'+ t[folder + (batch*batch_size)].strip().split(';')[0]+'/'+imgs[item]).astype(np.float32)\n",
    "                    #crop the images and resize them. Note that the images are of 2 different shape \n",
    "                    #and the conv3D will throw error if the inputs in a batch have different shapes\n",
    "                    image=resize(image,(y,z,3)).astype(np.float32)\n",
    "                    batch_data[folder,idx,:,:,0] =(image[:,:,0]-image[:,:,0].min())/(image[:,:,0].max()-image[:,:,0].min()) #normalise and feed in the image\n",
    "                    batch_data[folder,idx,:,:,1] =(image[:,:,1]-image[:,:,1].min())/(image[:,:,1].max()-image[:,:,1].min())#normalise and feed in the image\n",
    "                    batch_data[folder,idx,:,:,2] =(image[:,:,2]-image[:,:,2].min())/(image[:,:,2].max()-image[:,:,2].min()) #normalise and feed in the image\n",
    "                    \n",
    "                batch_labels[folder, int(t[folder + (batch*batch_size)].strip().split(';')[2])] = 1\n",
    "            yield batch_data, batch_labels #you yield the batch_data and the batch_labels, remember what does yield do\n",
    "           \n",
    "        # write the code for the remaining data points which are left after full batches\n",
    "        if (len(t)%batch_size) != 0:\n",
    "            batch_data = np.zeros((len(t)%batch_size,num_image_per_video,resize_height,resize_width,3))\n",
    "            batch_labels = np.zeros((len(t)%batch_size,5))\n",
    "            for folder in range(len(t)%batch_size):\n",
    "                imgs = os.listdir(source_path+'/'+ t[folder + (num_batches*batch_size)].split(';')[0])\n",
    "                for idx,item in enumerate(img_idx):\n",
    "                    image = plt.imread(source_path+'/'+ t[folder + (num_batches*batch_size)].strip().split(';')[0]+'/'+imgs[item]).astype(np.float32)\n",
    "                    image=resize(image,(y,z,3)).astype(np.float32)\n",
    "                    batch_data[folder,idx,:,:,0] = (image[:,:,0]-image[:,:,0].min())/(image[:,:,0].max()-image[:,:,0].min()) \n",
    "                    batch_data[folder,idx,:,:,1] = (image[:,:,1]-image[:,:,1].min())/(image[:,:,1].max()-image[:,:,1].min()) \n",
    "                    batch_data[folder,idx,:,:,2] = (image[:,:,2]-image[:,:,2].min())/(image[:,:,2].max()-image[:,:,2].min()) \n",
    "\n",
    "                batch_labels[folder, int(t[folder + (num_batches*batch_size)].strip().split(';')[2])] = 1\n",
    "\n",
    "            yield batch_data, batch_labels"
   ]
  },
  {
   "cell_type": "markdown",
   "metadata": {
    "colab_type": "text",
    "id": "wu2NS7v1ZNK8"
   },
   "source": [
    "Note here that a video is represented above in the generator as (number of images, height, width, number of channels). Take this into consideration while creating the model architecture."
   ]
  },
  {
   "cell_type": "code",
   "execution_count": 7,
   "metadata": {
    "colab": {
     "base_uri": "https://localhost:8080/",
     "height": 69
    },
    "colab_type": "code",
    "id": "AjvnxWHlZNK8",
    "outputId": "d06c9e61-a6a0-4306-97bb-264751ac43a1"
   },
   "outputs": [
    {
     "name": "stdout",
     "output_type": "stream",
     "text": [
      "# training sequences = 663\n",
      "# validation sequences = 100\n",
      "# epochs = 30\n"
     ]
    }
   ],
   "source": [
    "curr_dt_time = datetime.datetime.now()\n",
    "train_path = 'train'\n",
    "val_path = 'val'\n",
    "num_train_sequences = len(train_doc)\n",
    "print('# training sequences =', num_train_sequences)\n",
    "num_val_sequences = len(val_doc)\n",
    "print('# validation sequences =', num_val_sequences)\n",
    "num_epochs = 30 # choose the number of epochs\n",
    "print ('# epochs =', num_epochs)"
   ]
  },
  {
   "cell_type": "markdown",
   "metadata": {
    "colab_type": "text",
    "id": "1gGMcH-4ZNLB"
   },
   "source": [
    "## Model\n",
    "Here you make the model using different functionalities that Keras provides. Remember to use `Conv3D` and `MaxPooling3D` and not `Conv2D` and `Maxpooling2D` for a 3D convolution model. You would want to use `TimeDistributed` while building a Conv2D + RNN model. Also remember that the last layer is the softmax. Design the network in such a way that the model is able to give good accuracy on the least number of parameters so that it can fit in the memory of the webcam."
   ]
  },
  {
   "cell_type": "code",
   "execution_count": 8,
   "metadata": {
    "colab": {},
    "colab_type": "code",
    "id": "Wqkie-hvZNLH"
   },
   "outputs": [
    {
     "name": "stdout",
     "output_type": "stream",
     "text": [
      "WARNING:tensorflow:From C:\\Users\\divakar.kareddy\\AppData\\Local\\Continuum\\anaconda3\\lib\\site-packages\\keras\\backend\\tensorflow_backend.py:223: The name tf.variables_initializer is deprecated. Please use tf.compat.v1.variables_initializer instead.\n",
      "\n",
      "WARNING:tensorflow:From C:\\Users\\divakar.kareddy\\AppData\\Local\\Continuum\\anaconda3\\lib\\site-packages\\keras\\backend\\tensorflow_backend.py:2041: The name tf.nn.fused_batch_norm is deprecated. Please use tf.compat.v1.nn.fused_batch_norm instead.\n",
      "\n",
      "WARNING:tensorflow:From C:\\Users\\divakar.kareddy\\AppData\\Local\\Continuum\\anaconda3\\lib\\site-packages\\keras\\backend\\tensorflow_backend.py:3733: calling dropout (from tensorflow.python.ops.nn_ops) with keep_prob is deprecated and will be removed in a future version.\n",
      "Instructions for updating:\n",
      "Please use `rate` instead of `keep_prob`. Rate should be set to `rate = 1 - keep_prob`.\n"
     ]
    }
   ],
   "source": [
    "from keras.models import Sequential, Model\n",
    "from keras.layers import Dense, GRU, Flatten, TimeDistributed, Flatten, BatchNormalization, Activation,Dropout,CuDNNLSTM\n",
    "from keras.layers.convolutional import Conv3D,Conv2D, MaxPooling3D, MaxPooling2D\n",
    "from keras.callbacks import ModelCheckpoint, ReduceLROnPlateau\n",
    "from keras import optimizers\n",
    "from keras.applications import ResNet50\n",
    "from keras.applications.resnet50 import preprocess_input\n",
    "from keras.layers.recurrent import LSTM, GRU\n",
    "from keras.applications.vgg16 import VGG16\n",
    "\n",
    "model = Sequential()\n",
    "\n",
    "model.add(TimeDistributed(Conv2D(8, (3, 3), strides=(2, 2),activation='relu', padding='same'), input_shape=(num_image_per_video,resize_height,resize_width,3)))\n",
    "model.add(TimeDistributed(BatchNormalization()))\n",
    "\n",
    "model.add(TimeDistributed(Conv2D(16, (3,3), activation='relu')))\n",
    "model.add(TimeDistributed(BatchNormalization()))\n",
    "model.add(TimeDistributed(MaxPooling2D((2, 2), strides=(2, 2))))\n",
    "model.add(Dropout(0.3))\n",
    "\n",
    "model.add(TimeDistributed(Conv2D(64, (2,2),padding='same', activation='relu')))\n",
    "model.add(TimeDistributed(BatchNormalization()))\n",
    "model.add(TimeDistributed(MaxPooling2D((2, 2), strides=(2, 2))))\n",
    "model.add(Dropout(0.3))\n",
    "\n",
    "model.add(TimeDistributed(Flatten()))\n",
    "\n",
    "model.add(Dense(64, activation='relu'))\n",
    "model.add(Dropout(0.5))\n",
    "model.add(Dense(128, activation='relu'))\n",
    "model.add(Dropout(0.5))\n",
    "\n",
    "\n",
    "model.add(GRU(128, return_sequences=False))\n",
    "model.add(Dense(5, activation='softmax'))\n",
    "\n"
   ]
  },
  {
   "cell_type": "markdown",
   "metadata": {
    "colab_type": "text",
    "id": "-M6IjBQcZNLV"
   },
   "source": [
    "Now that you have written the model, the next step is to `compile` the model. When you print the `summary` of the model, you'll see the total number of parameters you have to train."
   ]
  },
  {
   "cell_type": "code",
   "execution_count": 9,
   "metadata": {
    "colab": {
     "base_uri": "https://localhost:8080/",
     "height": 763
    },
    "colab_type": "code",
    "id": "zqR_K197ZNLW",
    "outputId": "b802bdfa-c215-4a32-8e4e-6c834cda15e2",
    "scrolled": false
   },
   "outputs": [
    {
     "name": "stdout",
     "output_type": "stream",
     "text": [
      "WARNING:tensorflow:From C:\\Users\\divakar.kareddy\\AppData\\Local\\Continuum\\anaconda3\\lib\\site-packages\\keras\\optimizers.py:793: The name tf.train.Optimizer is deprecated. Please use tf.compat.v1.train.Optimizer instead.\n",
      "\n",
      "Model: \"sequential_1\"\n",
      "_________________________________________________________________\n",
      "Layer (type)                 Output Shape              Param #   \n",
      "=================================================================\n",
      "time_distributed_1 (TimeDist (None, 18, 50, 50, 8)     224       \n",
      "_________________________________________________________________\n",
      "time_distributed_2 (TimeDist (None, 18, 50, 50, 8)     32        \n",
      "_________________________________________________________________\n",
      "time_distributed_3 (TimeDist (None, 18, 48, 48, 16)    1168      \n",
      "_________________________________________________________________\n",
      "time_distributed_4 (TimeDist (None, 18, 48, 48, 16)    64        \n",
      "_________________________________________________________________\n",
      "time_distributed_5 (TimeDist (None, 18, 24, 24, 16)    0         \n",
      "_________________________________________________________________\n",
      "dropout_1 (Dropout)          (None, 18, 24, 24, 16)    0         \n",
      "_________________________________________________________________\n",
      "time_distributed_6 (TimeDist (None, 18, 24, 24, 64)    4160      \n",
      "_________________________________________________________________\n",
      "time_distributed_7 (TimeDist (None, 18, 24, 24, 64)    256       \n",
      "_________________________________________________________________\n",
      "time_distributed_8 (TimeDist (None, 18, 12, 12, 64)    0         \n",
      "_________________________________________________________________\n",
      "dropout_2 (Dropout)          (None, 18, 12, 12, 64)    0         \n",
      "_________________________________________________________________\n",
      "time_distributed_9 (TimeDist (None, 18, 9216)          0         \n",
      "_________________________________________________________________\n",
      "dense_1 (Dense)              (None, 18, 64)            589888    \n",
      "_________________________________________________________________\n",
      "dropout_3 (Dropout)          (None, 18, 64)            0         \n",
      "_________________________________________________________________\n",
      "dense_2 (Dense)              (None, 18, 128)           8320      \n",
      "_________________________________________________________________\n",
      "dropout_4 (Dropout)          (None, 18, 128)           0         \n",
      "_________________________________________________________________\n",
      "gru_1 (GRU)                  (None, 128)               98688     \n",
      "_________________________________________________________________\n",
      "dense_3 (Dense)              (None, 5)                 645       \n",
      "=================================================================\n",
      "Total params: 703,445\n",
      "Trainable params: 703,269\n",
      "Non-trainable params: 176\n",
      "_________________________________________________________________\n",
      "None\n"
     ]
    }
   ],
   "source": [
    "from keras.optimizers import Adam\n",
    "optimiser =Adam() #write your optimizer\n",
    "model.compile(optimizer=optimiser, loss='categorical_crossentropy', metrics=['categorical_accuracy'])\n",
    "print (model.summary())"
   ]
  },
  {
   "cell_type": "markdown",
   "metadata": {
    "colab_type": "text",
    "id": "l1LqeKxkZNLa"
   },
   "source": [
    "Let us create the `train_generator` and the `val_generator` which will be used in `.fit_generator`."
   ]
  },
  {
   "cell_type": "code",
   "execution_count": 10,
   "metadata": {
    "colab": {},
    "colab_type": "code",
    "id": "17ZqLPpLZNLb"
   },
   "outputs": [],
   "source": [
    "train_generator = generator(train_path, train_doc, batch_size)\n",
    "val_generator = generator(val_path, val_doc, batch_size)"
   ]
  },
  {
   "cell_type": "code",
   "execution_count": 11,
   "metadata": {
    "colab": {},
    "colab_type": "code",
    "id": "3jC_P1-FZNLe"
   },
   "outputs": [],
   "source": [
    "model_name = 'model_init' + '_' + str(curr_dt_time).replace(' ','').replace(':','_') + '/'\n",
    "    \n",
    "if not os.path.exists(model_name):\n",
    "    os.mkdir(model_name)\n",
    "        \n",
    "filepath = model_name + 'model-{epoch:05d}-{loss:.5f}-{categorical_accuracy:.5f}-{val_loss:.5f}-{val_categorical_accuracy:.5f}.h5'\n",
    "\n",
    "checkpoint = ModelCheckpoint(filepath, monitor='val_loss', verbose=1, save_best_only=False, save_weights_only=False, mode='auto', period=1)\n",
    "\n",
    "LR = ReduceLROnPlateau(monitor='val_loss',factor=0.01,patience=3,min_lr=0.0001,cooldown=1)# write the REducelronplateau code here\n",
    "callbacks_list = [checkpoint, LR]"
   ]
  },
  {
   "cell_type": "markdown",
   "metadata": {
    "colab_type": "text",
    "id": "vCkKBB-IZNLh"
   },
   "source": [
    "The `steps_per_epoch` and `validation_steps` are used by `fit_generator` to decide the number of next() calls it need to make."
   ]
  },
  {
   "cell_type": "code",
   "execution_count": 12,
   "metadata": {
    "colab": {},
    "colab_type": "code",
    "id": "y8UqyludZNLi"
   },
   "outputs": [],
   "source": [
    "if (num_train_sequences%batch_size) == 0:\n",
    "    steps_per_epoch = int(num_train_sequences/batch_size)\n",
    "else:\n",
    "    steps_per_epoch = (num_train_sequences//batch_size) + 1\n",
    "\n",
    "if (num_val_sequences%batch_size) == 0:\n",
    "    validation_steps = int(num_val_sequences/batch_size)\n",
    "else:\n",
    "    validation_steps = (num_val_sequences//batch_size) + 1"
   ]
  },
  {
   "cell_type": "markdown",
   "metadata": {
    "colab_type": "text",
    "id": "2ob77szIZNLm"
   },
   "source": [
    "Let us now fit the model. This will start training the model and with the help of the checkpoints, you'll be able to save the model at the end of each epoch."
   ]
  },
  {
   "cell_type": "code",
   "execution_count": 13,
   "metadata": {
    "colab": {
     "base_uri": "https://localhost:8080/",
     "height": 453
    },
    "colab_type": "code",
    "id": "DLBM55nOZNLn",
    "outputId": "78770c65-1c15-439d-b164-9f6d32ef6f77",
    "scrolled": false
   },
   "outputs": [
    {
     "name": "stdout",
     "output_type": "stream",
     "text": [
      "WARNING:tensorflow:From C:\\Users\\divakar.kareddy\\AppData\\Local\\Continuum\\anaconda3\\lib\\site-packages\\tensorflow\\python\\ops\\math_grad.py:1250: add_dispatch_support.<locals>.wrapper (from tensorflow.python.ops.array_ops) is deprecated and will be removed in a future version.\n",
      "Instructions for updating:\n",
      "Use tf.where in 2.0, which has the same broadcast rule as np.where\n",
      "Epoch 1/30\n",
      "Source path =  val ; batch size = 20\n",
      "Source path =  train ; batch size = 20\n",
      "34/34 [==============================] - 270s 8s/step - loss: 1.8617 - categorical_accuracy: 0.2266 - val_loss: 1.5863 - val_categorical_accuracy: 0.3000\n",
      "\n",
      "Epoch 00001: saving model to model_init_2020-05-2517_09_30.172491/model-00001-1.86437-0.23228-1.58633-0.30000.h5\n",
      "Epoch 2/30\n",
      "34/34 [==============================] - 210s 6s/step - loss: 1.8586 - categorical_accuracy: 0.2104 - val_loss: 1.6001 - val_categorical_accuracy: 0.2400\n",
      "\n",
      "Epoch 00002: saving model to model_init_2020-05-2517_09_30.172491/model-00002-1.85671-0.21569-1.60005-0.24000.h5\n",
      "Epoch 3/30\n",
      "34/34 [==============================] - 212s 6s/step - loss: 1.7363 - categorical_accuracy: 0.2693 - val_loss: 1.3791 - val_categorical_accuracy: 0.4100\n",
      "\n",
      "Epoch 00003: saving model to model_init_2020-05-2517_09_30.172491/model-00003-1.72275-0.27602-1.37905-0.41000.h5\n",
      "Epoch 4/30\n",
      "34/34 [==============================] - 214s 6s/step - loss: 1.5778 - categorical_accuracy: 0.3127 - val_loss: 1.3047 - val_categorical_accuracy: 0.5000\n",
      "\n",
      "Epoch 00004: saving model to model_init_2020-05-2517_09_30.172491/model-00004-1.57097-0.31222-1.30472-0.50000.h5\n",
      "Epoch 5/30\n",
      "34/34 [==============================] - 219s 6s/step - loss: 1.3929 - categorical_accuracy: 0.4054 - val_loss: 1.2731 - val_categorical_accuracy: 0.4600\n",
      "\n",
      "Epoch 00005: saving model to model_init_2020-05-2517_09_30.172491/model-00005-1.39890-0.40724-1.27309-0.46000.h5\n",
      "Epoch 6/30\n",
      "34/34 [==============================] - 217s 6s/step - loss: 1.2743 - categorical_accuracy: 0.4606 - val_loss: 1.2695 - val_categorical_accuracy: 0.4800\n",
      "\n",
      "Epoch 00006: saving model to model_init_2020-05-2517_09_30.172491/model-00006-1.28320-0.45551-1.26954-0.48000.h5\n",
      "Epoch 7/30\n",
      "34/34 [==============================] - 224s 7s/step - loss: 1.1673 - categorical_accuracy: 0.5070 - val_loss: 1.2909 - val_categorical_accuracy: 0.5400\n",
      "\n",
      "Epoch 00007: saving model to model_init_2020-05-2517_09_30.172491/model-00007-1.17855-0.49472-1.29089-0.54000.h5\n",
      "Epoch 8/30\n",
      "34/34 [==============================] - 220s 6s/step - loss: 1.0600 - categorical_accuracy: 0.5401 - val_loss: 1.2201 - val_categorical_accuracy: 0.5300\n",
      "\n",
      "Epoch 00008: saving model to model_init_2020-05-2517_09_30.172491/model-00008-1.05020-0.55354-1.22006-0.53000.h5\n",
      "Epoch 9/30\n",
      "34/34 [==============================] - 220s 6s/step - loss: 0.9441 - categorical_accuracy: 0.6336 - val_loss: 1.1253 - val_categorical_accuracy: 0.6000\n",
      "\n",
      "Epoch 00009: saving model to model_init_2020-05-2517_09_30.172491/model-00009-0.95740-0.62443-1.12528-0.60000.h5\n",
      "Epoch 10/30\n",
      "34/34 [==============================] - 222s 7s/step - loss: 0.7823 - categorical_accuracy: 0.7013 - val_loss: 1.1060 - val_categorical_accuracy: 0.5800\n",
      "\n",
      "Epoch 00010: saving model to model_init_2020-05-2517_09_30.172491/model-00010-0.79762-0.69382-1.10596-0.58000.h5\n",
      "Epoch 11/30\n",
      "34/34 [==============================] - 223s 7s/step - loss: 0.7239 - categorical_accuracy: 0.7233 - val_loss: 1.0636 - val_categorical_accuracy: 0.7100\n",
      "\n",
      "Epoch 00011: saving model to model_init_2020-05-2517_09_30.172491/model-00011-0.70378-0.73303-1.06364-0.71000.h5\n",
      "Epoch 12/30\n",
      "34/34 [==============================] - 222s 7s/step - loss: 0.5828 - categorical_accuracy: 0.7697 - val_loss: 1.0549 - val_categorical_accuracy: 0.6400\n",
      "\n",
      "Epoch 00012: saving model to model_init_2020-05-2517_09_30.172491/model-00012-0.58423-0.77225-1.05486-0.64000.h5\n",
      "Epoch 13/30\n",
      "34/34 [==============================] - 222s 7s/step - loss: 0.5619 - categorical_accuracy: 0.7837 - val_loss: 1.2553 - val_categorical_accuracy: 0.6400\n",
      "\n",
      "Epoch 00013: saving model to model_init_2020-05-2517_09_30.172491/model-00013-0.55050-0.79487-1.25528-0.64000.h5\n",
      "Epoch 14/30\n",
      "34/34 [==============================] - 221s 7s/step - loss: 0.4819 - categorical_accuracy: 0.8411 - val_loss: 1.1113 - val_categorical_accuracy: 0.6400\n",
      "\n",
      "Epoch 00014: saving model to model_init_2020-05-2517_09_30.172491/model-00014-0.48901-0.83710-1.11133-0.64000.h5\n",
      "Epoch 15/30\n",
      "34/34 [==============================] - 225s 7s/step - loss: 0.3493 - categorical_accuracy: 0.8815 - val_loss: 1.0950 - val_categorical_accuracy: 0.7100\n",
      "\n",
      "Epoch 00015: saving model to model_init_2020-05-2517_09_30.172491/model-00015-0.34768-0.88688-1.09498-0.71000.h5\n",
      "Epoch 16/30\n",
      "34/34 [==============================] - 222s 7s/step - loss: 0.2716 - categorical_accuracy: 0.9102 - val_loss: 1.0174 - val_categorical_accuracy: 0.7400\n",
      "\n",
      "Epoch 00016: saving model to model_init_2020-05-2517_09_30.172491/model-00016-0.27635-0.90799-1.01739-0.74000.h5\n",
      "Epoch 17/30\n",
      "34/34 [==============================] - 221s 7s/step - loss: 0.2759 - categorical_accuracy: 0.9205 - val_loss: 0.9876 - val_categorical_accuracy: 0.7300\n",
      "\n",
      "Epoch 00017: saving model to model_init_2020-05-2517_09_30.172491/model-00017-0.27538-0.91855-0.98765-0.73000.h5\n",
      "Epoch 18/30\n",
      "34/34 [==============================] - 224s 7s/step - loss: 0.2583 - categorical_accuracy: 0.9286 - val_loss: 1.0115 - val_categorical_accuracy: 0.7400\n",
      "\n",
      "Epoch 00018: saving model to model_init_2020-05-2517_09_30.172491/model-00018-0.23067-0.93514-1.01155-0.74000.h5\n",
      "Epoch 19/30\n",
      "34/34 [==============================] - 223s 7s/step - loss: 0.2248 - categorical_accuracy: 0.9375 - val_loss: 1.0130 - val_categorical_accuracy: 0.7200\n",
      "\n",
      "Epoch 00019: saving model to model_init_2020-05-2517_09_30.172491/model-00019-0.22035-0.94419-1.01301-0.72000.h5\n",
      "Epoch 20/30\n",
      "34/34 [==============================] - 219s 6s/step - loss: 0.2091 - categorical_accuracy: 0.9360 - val_loss: 1.0044 - val_categorical_accuracy: 0.7200\n",
      "\n",
      "Epoch 00020: saving model to model_init_2020-05-2517_09_30.172491/model-00020-0.20577-0.94268-1.00438-0.72000.h5\n",
      "Epoch 21/30\n",
      "34/34 [==============================] - 224s 7s/step - loss: 0.2031 - categorical_accuracy: 0.9463 - val_loss: 1.0298 - val_categorical_accuracy: 0.7200\n",
      "\n",
      "Epoch 00021: saving model to model_init_2020-05-2517_09_30.172491/model-00021-0.18839-0.95324-1.02976-0.72000.h5\n",
      "Epoch 22/30\n",
      "34/34 [==============================] - 225s 7s/step - loss: 0.1851 - categorical_accuracy: 0.9632 - val_loss: 1.0503 - val_categorical_accuracy: 0.7200\n",
      "\n",
      "Epoch 00022: saving model to model_init_2020-05-2517_09_30.172491/model-00022-0.18198-0.96229-1.05029-0.72000.h5\n",
      "Epoch 23/30\n",
      "34/34 [==============================] - 224s 7s/step - loss: 0.1730 - categorical_accuracy: 0.9603 - val_loss: 1.0597 - val_categorical_accuracy: 0.7100\n",
      "\n",
      "Epoch 00023: saving model to model_init_2020-05-2517_09_30.172491/model-00023-0.17446-0.95928-1.05971-0.71000.h5\n",
      "Epoch 24/30\n",
      "34/34 [==============================] - 224s 7s/step - loss: 0.1779 - categorical_accuracy: 0.9485 - val_loss: 1.0496 - val_categorical_accuracy: 0.7000\n",
      "\n",
      "Epoch 00024: saving model to model_init_2020-05-2517_09_30.172491/model-00024-0.18172-0.94721-1.04961-0.70000.h5\n",
      "Epoch 25/30\n",
      "34/34 [==============================] - 224s 7s/step - loss: 0.1599 - categorical_accuracy: 0.9536 - val_loss: 1.0751 - val_categorical_accuracy: 0.7000\n",
      "\n",
      "Epoch 00025: saving model to model_init_2020-05-2517_09_30.172491/model-00025-0.15366-0.96078-1.07509-0.70000.h5\n",
      "Epoch 26/30\n",
      "34/34 [==============================] - 224s 7s/step - loss: 0.1466 - categorical_accuracy: 0.9676 - val_loss: 1.0936 - val_categorical_accuracy: 0.7000\n",
      "\n",
      "Epoch 00026: saving model to model_init_2020-05-2517_09_30.172491/model-00026-0.14858-0.96682-1.09360-0.70000.h5\n",
      "Epoch 27/30\n",
      "34/34 [==============================] - 225s 7s/step - loss: 0.1399 - categorical_accuracy: 0.9720 - val_loss: 1.0821 - val_categorical_accuracy: 0.7100\n",
      "\n",
      "Epoch 00027: saving model to model_init_2020-05-2517_09_30.172491/model-00027-0.14267-0.97134-1.08206-0.71000.h5\n",
      "Epoch 28/30\n",
      "34/34 [==============================] - 224s 7s/step - loss: 0.1291 - categorical_accuracy: 0.9647 - val_loss: 1.0917 - val_categorical_accuracy: 0.7100\n",
      "\n",
      "Epoch 00028: saving model to model_init_2020-05-2517_09_30.172491/model-00028-0.12876-0.96380-1.09165-0.71000.h5\n"
     ]
    },
    {
     "name": "stdout",
     "output_type": "stream",
     "text": [
      "Epoch 29/30\n",
      "34/34 [==============================] - 225s 7s/step - loss: 0.1293 - categorical_accuracy: 0.9720 - val_loss: 1.0815 - val_categorical_accuracy: 0.7100\n",
      "\n",
      "Epoch 00029: saving model to model_init_2020-05-2517_09_30.172491/model-00029-0.13230-0.97134-1.08149-0.71000.h5\n",
      "Epoch 30/30\n",
      "34/34 [==============================] - 225s 7s/step - loss: 0.1325 - categorical_accuracy: 0.9720 - val_loss: 1.0877 - val_categorical_accuracy: 0.7100\n",
      "\n",
      "Epoch 00030: saving model to model_init_2020-05-2517_09_30.172491/model-00030-0.13309-0.97134-1.08766-0.71000.h5\n"
     ]
    }
   ],
   "source": [
    "history=model.fit_generator(train_generator, steps_per_epoch=steps_per_epoch, epochs=num_epochs, verbose=1, \n",
    "                    callbacks=callbacks_list, validation_data=val_generator, \n",
    "                    validation_steps=validation_steps, class_weight=None, workers=1, initial_epoch=0)"
   ]
  },
  {
   "cell_type": "code",
   "execution_count": 14,
   "metadata": {
    "colab": {},
    "colab_type": "code",
    "id": "iGXtYgezZNLr"
   },
   "outputs": [
    {
     "name": "stdout",
     "output_type": "stream",
     "text": [
      "dict_keys(['val_loss', 'val_categorical_accuracy', 'loss', 'categorical_accuracy', 'lr'])\n"
     ]
    }
   ],
   "source": [
    "print(history.history.keys())"
   ]
  },
  {
   "cell_type": "code",
   "execution_count": 15,
   "metadata": {
    "colab": {},
    "colab_type": "code",
    "id": "3TKA0MPwZNLu"
   },
   "outputs": [
    {
     "name": "stdout",
     "output_type": "stream",
     "text": [
      "dict_keys(['val_loss', 'val_categorical_accuracy', 'loss', 'categorical_accuracy', 'lr'])\n"
     ]
    },
    {
     "data": {
      "image/png": "[encoded data removed]",
      "text/plain": [
       "<Figure size 432x288 with 1 Axes>"
      ]
     },
     "metadata": {
      "needs_background": "light"
     },
     "output_type": "display_data"
    },
    {
     "data": {
      "image/png": "[encoded data removed]",
      "text/plain": [
       "<Figure size 432x288 with 1 Axes>"
      ]
     },
     "metadata": {
      "needs_background": "light"
     },
     "output_type": "display_data"
    }
   ],
   "source": [
    "# list all data in history\n",
    "print(history.history.keys())\n",
    "# summarize history for accuracy\n",
    "plt.plot(history.history['categorical_accuracy'])\n",
    "plt.plot(history.history['val_categorical_accuracy'])\n",
    "plt.title('model accuracy')\n",
    "plt.ylabel('accuracy')\n",
    "plt.xlabel('epoch')\n",
    "plt.legend(['train', 'test'], loc='upper left')\n",
    "plt.show()\n",
    "# summarize history for loss\n",
    "plt.plot(history.history['loss'])\n",
    "plt.plot(history.history['val_loss'])\n",
    "plt.title('model loss')\n",
    "plt.ylabel('loss')\n",
    "plt.xlabel('epoch')\n",
    "plt.legend(['train', 'test'], loc='upper left')\n",
    "plt.show()"
   ]
  },
  {
   "cell_type": "code",
   "execution_count": null,
   "metadata": {
    "colab": {},
    "colab_type": "code",
    "id": "a9vFo6gaZNLx"
   },
   "outputs": [],
   "source": []
  },
  {
   "cell_type": "code",
   "execution_count": null,
   "metadata": {
    "colab": {},
    "colab_type": "code",
    "id": "EnZNbIsdZNL1"
   },
   "outputs": [],
   "source": []
  },
  {
   "cell_type": "code",
   "execution_count": null,
   "metadata": {
    "colab": {},
    "colab_type": "code",
    "id": "dd5RQ-qBZNL5"
   },
   "outputs": [],
   "source": []
  },
  {
   "cell_type": "code",
   "execution_count": null,
   "metadata": {
    "colab": {},
    "colab_type": "code",
    "id": "WlUL5rgrZNL8"
   },
   "outputs": [],
   "source": []
  },
  {
   "cell_type": "code",
   "execution_count": null,
   "metadata": {
    "colab": {},
    "colab_type": "code",
    "id": "RpZQNp9RZNMA"
   },
   "outputs": [],
   "source": []
  },
  {
   "cell_type": "code",
   "execution_count": null,
   "metadata": {
    "colab": {},
    "colab_type": "code",
    "id": "UYAQgGvQZNMF"
   },
   "outputs": [],
   "source": []
  },
  {
   "cell_type": "code",
   "execution_count": null,
   "metadata": {
    "colab": {},
    "colab_type": "code",
    "id": "05kXpZp4ZNMI"
   },
   "outputs": [],
   "source": []
  },
  {
   "cell_type": "code",
   "execution_count": null,
   "metadata": {
    "colab": {},
    "colab_type": "code",
    "id": "u7hnFJNKZNML"
   },
   "outputs": [],
   "source": []
  },
  {
   "cell_type": "code",
   "execution_count": 0,
   "metadata": {
    "colab": {},
    "colab_type": "code",
    "id": "_0DFCkubZNMP"
   },
   "outputs": [],
   "source": []
  },
  {
   "cell_type": "code",
   "execution_count": 0,
   "metadata": {
    "colab": {},
    "colab_type": "code",
    "id": "pwdxoEqcZNMR"
   },
   "outputs": [],
   "source": []
  },
  {
   "cell_type": "code",
   "execution_count": 0,
   "metadata": {
    "colab": {},
    "colab_type": "code",
    "id": "F20k8P06ZNMX"
   },
   "outputs": [],
   "source": []
  },
  {
   "cell_type": "code",
   "execution_count": 0,
   "metadata": {
    "colab": {},
    "colab_type": "code",
    "id": "PNGwKKyZZNMa"
   },
   "outputs": [],
   "source": []
  },
  {
   "cell_type": "code",
   "execution_count": 0,
   "metadata": {
    "colab": {},
    "colab_type": "code",
    "id": "sL6-HI0bZNMd"
   },
   "outputs": [],
   "source": []
  },
  {
   "cell_type": "code",
   "execution_count": 0,
   "metadata": {
    "colab": {},
    "colab_type": "code",
    "id": "abutUsTiZNMg"
   },
   "outputs": [],
   "source": []
  },
  {
   "cell_type": "code",
   "execution_count": 0,
   "metadata": {
    "colab": {},
    "colab_type": "code",
    "id": "NgI9MK10ZNMo"
   },
   "outputs": [],
   "source": []
  }
 ],
 "metadata": {
  "accelerator": "GPU",
  "colab": {
   "collapsed_sections": [],
   "name": "Neural_Nets_Project_Starter_Code_CNN+RNN.ipynb",
   "provenance": []
  },
  "kernelspec": {
   "display_name": "Python 3",
   "language": "python",
   "name": "python3"
  },
  "language_info": {
   "codemirror_mode": {
    "name": "ipython",
    "version": 3
   },
   "file_extension": ".py",
   "mimetype": "text/x-python",
   "name": "python",
   "nbconvert_exporter": "python",
   "pygments_lexer": "ipython3",
   "version": "3.7.3"
  }
 },
 "nbformat": 4,
 "nbformat_minor": 1
}
